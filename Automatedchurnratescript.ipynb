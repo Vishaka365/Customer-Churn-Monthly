{
 "cells": [
  {
   "cell_type": "code",
   "execution_count": 22,
   "id": "33889ce2",
   "metadata": {},
   "outputs": [
    {
     "name": "stdout",
     "output_type": "stream",
     "text": [
      "Churn Rate: 20.00%\n",
      "Report saved with 1 churned customers.\n"
     ]
    }
   ],
   "source": [
    "import pandas as pd\n",
    "import glob\n",
    "import os\n",
    "\n",
    "def clean_file(df):\n",
    "    # Standardize column names\n",
    "    df.columns = df.columns.str.lower().str.strip()\n",
    "    \n",
    "    # Rename if needed\n",
    "    if 'cust_id' in df.columns:\n",
    "        df.rename(columns={'cust_id': 'customer_id'}, inplace=True)\n",
    "    \n",
    "    # Handle missing values\n",
    "    df.dropna(subset=['customer_id'], inplace=True)\n",
    "    df['status'] = df['status'].fillna('unknown')\n",
    "    \n",
    "    # Normalize customer_id format (remove non-numeric characters)\n",
    "    df['customer_id'] = df['customer_id'].astype(str).str.extract('(\\d+)', expand=False)\n",
    "    # Convert date\n",
    "    df['last_active_date'] = pd.to_datetime(df['last_active_date'], errors='coerce')\n",
    "    \n",
    "    # Remove duplicates\n",
    "    df.drop_duplicates(subset='customer_id', keep='last', inplace=True)\n",
    "    \n",
    "    return df\n",
    "\n",
    "# Step 1: Read latest two files\n",
    "files = sorted(glob.glob(r\"C:\\Users\\Vishaka\\Downloads\\Monthly Churn Data-Pandas/*.csv\"))[-2:]\n",
    "\n",
    "if len(files) < 2:\n",
    "    raise Exception(\"Not enough files to compare.\")\n",
    "\n",
    "file_prev, file_curr = files[-2], files[-1]\n",
    "\n",
    "# Step 2: Load and clean\n",
    "df_prev = clean_file(pd.read_csv(file_prev))\n",
    "df_curr = clean_file(pd.read_csv(file_curr))\n",
    "\n",
    "# Step 3: Churn logic\n",
    "prev_ids = set(df_prev['customer_id'])\n",
    "curr_ids = set(df_curr['customer_id'])\n",
    "\n",
    "churned_ids = prev_ids - curr_ids\n",
    "churned_customers = df_prev[df_prev['customer_id'].isin(churned_ids)]\n",
    "\n",
    "# Step 4: Churn rate\n",
    "churn_rate = (len(churned_ids) / len(prev_ids)) * 100\n",
    "\n",
    "# Step 5: Save report\n",
    "churned_customers.to_csv(\"churn_report.csv\", index=False)\n",
    "\n",
    "# Optional: Print summary\n",
    "print(f\"Churn Rate: {churn_rate:.2f}%\")\n",
    "print(f\"Report saved with {len(churned_ids)} churned customers.\")"
   ]
  },
  {
   "cell_type": "code",
   "execution_count": null,
   "id": "1f1557e1",
   "metadata": {},
   "outputs": [],
   "source": []
  },
  {
   "cell_type": "code",
   "execution_count": 23,
   "id": "0e300cca",
   "metadata": {},
   "outputs": [
    {
     "name": "stdout",
     "output_type": "stream",
     "text": [
      "✅ Churn report successfully saved at: C:\\Users\\Vishaka\\Downloads\\Monthly Churn Data-Pandas\n"
     ]
    }
   ],
   "source": [
    "print(r\"✅ Churn report successfully saved at: C:\\Users\\Vishaka\\Downloads\\Monthly Churn Data-Pandas\")"
   ]
  },
  {
   "cell_type": "code",
   "execution_count": null,
   "id": "8e643c84",
   "metadata": {},
   "outputs": [],
   "source": []
  }
 ],
 "metadata": {
  "kernelspec": {
   "display_name": "Python 3 (ipykernel)",
   "language": "python",
   "name": "python3"
  },
  "language_info": {
   "codemirror_mode": {
    "name": "ipython",
    "version": 3
   },
   "file_extension": ".py",
   "mimetype": "text/x-python",
   "name": "python",
   "nbconvert_exporter": "python",
   "pygments_lexer": "ipython3",
   "version": "3.10.9"
  }
 },
 "nbformat": 4,
 "nbformat_minor": 5
}
