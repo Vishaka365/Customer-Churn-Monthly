{
 "cells": [
  {
   "cell_type": "code",
   "execution_count": 23,
   "id": "ae0743d4",
   "metadata": {},
   "outputs": [],
   "source": [
    "import pandas as pd\n",
    "import glob\n",
    "\n",
    "# Get latest two files\n",
    "files = sorted(glob.glob(r\"C:\\Users\\Vishaka\\Downloads\\Monthly Churn Data-Pandas/*.csv\"))[-2:]\n",
    "\n",
    "jan = pd.read_csv(files[0])\n",
    "feb = pd.read_csv(files[1])"
   ]
  },
  {
   "cell_type": "code",
   "execution_count": 24,
   "id": "ee7887f5",
   "metadata": {},
   "outputs": [],
   "source": [
    "def clean_file(df):\n",
    "    expected_cols = ['customer_id', 'status', 'last_active_date']\n",
    "    df.columns = df.columns.str.lower().str.strip()\n",
    "    \n",
    "    # Rename columns if needed\n",
    "    if 'cust_id' in df.columns:\n",
    "        df.rename(columns={'cust_id': 'customer_id'}, inplace=True)\n",
    "    \n",
    "    # Fill missing values\n",
    "    df.fillna({'status': 'unknown'}, inplace=True)\n",
    "    \n",
    "    # Convert dates\n",
    "    df['last_active_date'] = pd.to_datetime(df['last_active_date'], errors='coerce')\n",
    "    \n",
    "    return df"
   ]
  },
  {
   "cell_type": "code",
   "execution_count": 19,
   "id": "032425f7",
   "metadata": {},
   "outputs": [
    {
     "name": "stdout",
     "output_type": "stream",
     "text": [
      "{104, 105, 103}\n"
     ]
    }
   ],
   "source": [
    "jan_ids = set(jan['customer_id'])\n",
    "feb_ids = set(feb['customer_id'])\n",
    "churned = jan_ids - feb_ids\n",
    "\n",
    "print(churned)"
   ]
  },
  {
   "cell_type": "code",
   "execution_count": 25,
   "id": "26a47892",
   "metadata": {},
   "outputs": [
    {
     "name": "stdout",
     "output_type": "stream",
     "text": [
      "   customer_id     status     last_active_date\n",
      "2          103   inactive           2025-01-05\n",
      "3          104     active           2025-01-20\n",
      "4          105     active           2025-01-25\n"
     ]
    }
   ],
   "source": [
    "# Filter churned customers from Jan data\n",
    "churn_report = jan[jan['customer_id'].isin(churned)]\n",
    "print(churn_report)"
   ]
  },
  {
   "cell_type": "code",
   "execution_count": 21,
   "id": "96197ce4",
   "metadata": {},
   "outputs": [
    {
     "name": "stdout",
     "output_type": "stream",
     "text": [
      "Churn Rate: 60.00%\n"
     ]
    }
   ],
   "source": [
    "# Output\n",
    "churn_rate = (len(churned) / len(jan_ids)) * 100\n",
    "print(f\"Churn Rate: {churn_rate:.2f}%\")\n"
   ]
  },
  {
   "cell_type": "code",
   "execution_count": null,
   "id": "aaa3b44e",
   "metadata": {},
   "outputs": [],
   "source": []
  }
 ],
 "metadata": {
  "kernelspec": {
   "display_name": "Python 3 (ipykernel)",
   "language": "python",
   "name": "python3"
  },
  "language_info": {
   "codemirror_mode": {
    "name": "ipython",
    "version": 3
   },
   "file_extension": ".py",
   "mimetype": "text/x-python",
   "name": "python",
   "nbconvert_exporter": "python",
   "pygments_lexer": "ipython3",
   "version": "3.10.9"
  }
 },
 "nbformat": 4,
 "nbformat_minor": 5
}
